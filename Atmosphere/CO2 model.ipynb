{
 "cells": [
  {
   "cell_type": "code",
   "execution_count": 3,
   "id": "68ba489c-933b-40c7-bc69-98e4cebc8520",
   "metadata": {},
   "outputs": [
    {
     "name": "stdin",
     "output_type": "stream",
     "text": [
      " 1990\n"
     ]
    },
    {
     "name": "stdout",
     "output_type": "stream",
     "text": [
      "355.7463687587808 1.3816888140344414 0.7771999578943733 0.5616862973284139\n"
     ]
    },
    {
     "data": {
      "image/png": "[encoded data removed]",
      "text/plain": [
       "<Figure size 432x288 with 1 Axes>"
      ]
     },
     "metadata": {
      "needs_background": "light"
     },
     "output_type": "display_data"
    }
   ],
   "source": [
    "import numpy\n",
    "import matplotlib.pyplot as plt\n",
    "import math\n",
    "\n",
    "#Variables\n",
    "\n",
    "timeStep = 1 #years\n",
    "eqCO2 = 280 #equilibrium CO2\n",
    "initCO2 = 290 #initial CO2\n",
    "CO2_exp = 0.0225 #exponential Growth\n",
    "CO2RampExp = 0.01 # Drawdown Rate\n",
    "aerosol_Wm2_now = -0.75 #Aerosol Radiative forcing in Watts/m2\n",
    "Watts_m2 = 4\n",
    "climate_sensitivity2x = 3 #Doubled CO2 climate sensitivity\n",
    "climate_sensitivityWm2 = climate_sensitivity2x/Watts_m2\n",
    "TResponseTime = 20\n",
    "\n",
    "\n",
    "\n",
    "years = [1900] \n",
    "bauCO2 = [initCO2] # Case 1 - Business as usual - Atmospheric CO2\n",
    "incCO2 = [0] \n",
    "rfCO2 = [0] #Radiative forcing \n",
    "rfMask = [0] #Radiative Forcing from Masking\n",
    "rfCO2Ramp = [0]\n",
    "rfMaskRamp = [0]\n",
    "rfTot = [0] #Total Radiative Forcing\n",
    "Teq =[0] #Equilibrium Temperature\n",
    "TTrans = [0] #Time-Evolving Temperature\n",
    "rampCO2 = [initCO2]\n",
    "rfTotRamp = [0]\n",
    "rfTotRamp = [0]\n",
    "TeqRamp = [0]\n",
    "TTransRamp = [0]\n",
    "\n",
    "nYear = int(input(\"\"))\n",
    "\n",
    "\n",
    "while years[-1]<2100:\n",
    "    years.append(years[-1] +timeStep)\n",
    "    bauCO2.append(eqCO2 + (bauCO2[-1]-eqCO2)*(1+CO2_exp*timeStep))\n",
    "    incCO2.append((bauCO2[-1]-bauCO2[-2])/timeStep)\n",
    "    rfCO2.append(Watts_m2* math.log(bauCO2[-1]/eqCO2)/math.log(2))\n",
    "\n",
    "    \n",
    "iYear = years.index(nYear+1)\n",
    "#printing the reqired (iYear, bauCO2[iYear], rfCO2[iYear])\n",
    "aerosolCoeff = aerosol_Wm2_now / \\\n",
    "      ((bauCO2[iYear]-bauCO2[iYear-1])/timeStep)\n",
    "\n",
    "for i in range (1,len(years)):\n",
    "    rfMask.append(max(incCO2[i]*aerosolCoeff, aerosol_Wm2_now))\n",
    "    rfTot.append(rfCO2[i]*climate_sensitivityWm2)\n",
    "    Teq.append(rfTot[i]*climate_sensitivityWm2)\n",
    "    TTrans.append(TTrans[-1]+(Teq[i]-TTrans[-1])*timeStep/TResponseTime)\n",
    "    \n",
    "print(bauCO2[iYear],rfCO2[iYear],Teq[iYear],TTrans[iYear])\n",
    "\n",
    "\n",
    "\n",
    "for i in range(1, iYear):\n",
    "    rampCO2.append(bauCO2[i])\n",
    "    rfCO2Ramp.append(rfCO2[i])\n",
    "    rfMaskRamp.append(rfMask[i])\n",
    "    TTransRamp.append(TTrans[i])\n",
    "    TeqRamp.append(Teq[i])\n",
    "    rfTotRamp.append(rfTot[i])\n",
    "\n",
    "for i in range(iYear, len(years)):\n",
    "    rampCO2.append(rampCO2[-1]+(eqCO2*1.2-rampCO2[-1]) *(CO2RampExp*timeStep))\n",
    "    rfCO2Ramp.append(Watts_m2* math.log(rampCO2[i]/eqCO2)/math.log(2))\n",
    "    rfMaskRamp.append(0)\n",
    "    rfTotRamp.append(rfCO2Ramp[i])\n",
    "    TeqRamp.append(rfCO2Ramp[i]*climate_sensitivityWm2)\n",
    "    TTransRamp.append(TTransRamp[-1] + (TeqRamp[i] -TTransRamp[-1])*timeStep/TResponseTime)\n",
    "\n",
    "plt.title(\"Transient Temperature\")\n",
    "plt.plot(years, TTrans, 'b', label=\"Business\")\n",
    "plt.plot(years, TTransRamp,'g', label=\"World Without Us \")\n",
    "leg = plt.legend()\n",
    "plt.show()"
   ]
  },
  {
   "cell_type": "code",
   "execution_count": null,
   "id": "422147bf-35ff-48e5-a613-a467e284b054",
   "metadata": {},
   "outputs": [],
   "source": []
  }
 ],
 "metadata": {
  "kernelspec": {
   "display_name": "Python 3",
   "language": "python",
   "name": "python3"
  },
  "language_info": {
   "codemirror_mode": {
    "name": "ipython",
    "version": 3
   },
   "file_extension": ".py",
   "mimetype": "text/x-python",
   "name": "python",
   "nbconvert_exporter": "python",
   "pygments_lexer": "ipython3",
   "version": "3.8.8"
  }
 },
 "nbformat": 4,
 "nbformat_minor": 5
}
