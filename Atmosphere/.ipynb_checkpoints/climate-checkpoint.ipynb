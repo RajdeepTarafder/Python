{
 "cells": [
  {
   "cell_type": "code",
   "execution_count": 8,
   "id": "2fd86c4d",
   "metadata": {},
   "outputs": [],
   "source": [
    "#import numpy\n",
    "import numpy as np\n",
    "#import pandas\n",
    "import pandas as pd\n",
    "#import matplotlib\n",
    "import matplotlib.pyplot as plt \n",
    "%matplotlib qt5 "
   ]
  },
  {
   "cell_type": "code",
   "execution_count": 9,
   "id": "ae1fd160",
   "metadata": {
    "scrolled": false
   },
   "outputs": [
    {
     "name": "stdout",
     "output_type": "stream",
     "text": [
      "2\n"
     ]
    }
   ],
   "source": [
    "nSteps = int(input(\"\")) #years"
   ]
  },
  {
   "cell_type": "code",
   "execution_count": 10,
   "id": "f9181262",
   "metadata": {},
   "outputs": [],
   "source": [
    "waterDepth = 4000        # meters\n",
    "L = 1350                 # Watts/m2\n",
    "alpha= 0.3\n",
    "epsilon = 1\n",
    "sigma = 5.67E-8          # W/m2 K4\n",
    "TK=[0.]\n",
    "timeYears=[0]\n"
   ]
  },
  {
   "cell_type": "code",
   "execution_count": 13,
   "id": "4d714249",
   "metadata": {},
   "outputs": [],
   "source": [
    "HeatCapacity=waterDepth*4.2E6\n",
    "HeatIn=L*(1-alpha)/4 \n",
    "HeatOut=0\n",
    "HeatContent=HeatCapacity*TK[0]\n",
    "for itime in range (0,100):\n",
    "    timeYears.append(nSteps*timeYears[-1])\n",
    "    HeatOut= epsilon * sigma * pow(TK[-1],4)\n",
    "    dHeatContent= HeatIn - HeatOut\n",
    "    HeatContent=HeatContent+(dHeatContent*nSteps*3.14e7)\n",
    "    TK.append(HeatContent/HeatCapacity)   "
   ]
  },
  {
   "cell_type": "code",
   "execution_count": 14,
   "id": "b4ba158c",
   "metadata": {},
   "outputs": [
    {
     "name": "stdout",
     "output_type": "stream",
     "text": [
      "88.062604833087 3.277058797617346\n"
     ]
    }
   ],
   "source": [
    " print(TK[-1], HeatOut)"
   ]
  },
  {
   "cell_type": "code",
   "execution_count": null,
   "id": "48d8b22a",
   "metadata": {},
   "outputs": [],
   "source": []
  }
 ],
 "metadata": {
  "kernelspec": {
   "display_name": "Python 3",
   "language": "python",
   "name": "python3"
  },
  "language_info": {
   "codemirror_mode": {
    "name": "ipython",
    "version": 3
   },
   "file_extension": ".py",
   "mimetype": "text/x-python",
   "name": "python",
   "nbconvert_exporter": "python",
   "pygments_lexer": "ipython3",
   "version": "3.8.8"
  }
 },
 "nbformat": 4,
 "nbformat_minor": 5
}
