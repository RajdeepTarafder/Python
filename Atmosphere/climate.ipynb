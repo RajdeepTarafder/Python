{
 "cells": [
  {
   "cell_type": "code",
   "execution_count": 1,
   "id": "920158e4",
   "metadata": {},
   "outputs": [],
   "source": [
    "#import numpy\n",
    "import numpy as np\n",
    "#import pandas\n",
    "import pandas as pd\n",
    "#import matplotlib\n",
    "import matplotlib.pyplot as plt \n",
    "%matplotlib qt5 \n",
    "nSteps = int(input(\"\")) #years\n",
    "waterDepth = 4000        # meters\n",
    "L = 1350                 # Watts/m2\n",
    "alpha= 0.3\n",
    "epsilon = 1\n",
    "sigma = 5.67E-8          # W/m2 K4\n",
    "TK=[0.]\n",
    "timeYears=[0]\n",
    "HeatCapacity=waterDepth*4.2E6\n",
    "HeatIn=L*(1-alpha)/4 \n",
    "HeatOut=0\n",
    "HeatContent=HeatCapacity*TK[0]\n",
    "for itime in range (0,100):\n",
    "    timeYears.append(nSteps*timeYears[-1])\n",
    "    HeatOut= epsilon * sigma * pow(TK[-1],4)\n",
    "    dHeatContent= HeatIn - HeatOut\n",
    "    HeatContent=HeatContent+(dHeatContent*nSteps*3.14e7)\n",
    "    TK.append(HeatContent/HeatCapacity) \n",
    "print(TK[-1], HeatOut)"
   ]
  },
  {
   "cell_type": "code",
   "execution_count": null,
   "id": "cd0ef977",
   "metadata": {},
   "outputs": [],
   "source": [
    "import matplotlib.pyplot as plt\n",
    "import numpy as np\n",
    "\n",
    "time_step = 100 # years\n",
    "water_depth = 4000 # meters\n",
    "L = 1350 # Watts/m2\n",
    "albedo = 0.3\n",
    "epsilon = 1\n",
    "sigma = 5.67e-8 # W/m2 K4\n",
    "\n",
    "# d_heat_content/dt = L * (1 - albedo) / 4 - epsilon * sigma * T ** 4\n",
    "\n",
    "# T [K] = heat_content [J/m2] / heat_capacity [J/m2 K]\n",
    "\n",
    "# heat_content(t+1) = heat_content(t) + d_heat_content/dt * time_step\n",
    "\n",
    "heat_capacity = water_depth * 4.2e6 # J/m2 K\n",
    "\n",
    "time_years = [0]\n",
    "temp_kelvin = [0]\n",
    "\n",
    "heat_content = temp_kelvin[-1] * heat_capacity\n",
    "heat_in = L * (1 - albedo) / 4\n",
    "for step in range(1,100):\n",
    "    time_years.append(step * time_step)\n",
    "    flux = heat_in - epsilon * sigma * temp_kelvin[-1] ** 4\n",
    "    heat_content += flux * time_step * 3.14e7 # to seconds\n",
    "    temp_kelvin.append(heat_content / heat_capacity)\n",
    "\n",
    "plt.plot(time_years, temp_kelvin, marker='o')\n",
    "plt.title('Temperature as a function of Time')\n",
    "plt.ylabel('Temperature (Kelvin)')\n",
    "plt.xlabel('Time (years)')\n",
    "plt.xlim(0, 2000)\n",
    "plt.show()"
   ]
  }
 ],
 "metadata": {
  "kernelspec": {
   "display_name": "Python 3",
   "language": "python",
   "name": "python3"
  },
  "language_info": {
   "codemirror_mode": {
    "name": "ipython",
    "version": 3
   },
   "file_extension": ".py",
   "mimetype": "text/x-python",
   "name": "python",
   "nbconvert_exporter": "python",
   "pygments_lexer": "ipython3",
   "version": "3.8.8"
  }
 },
 "nbformat": 4,
 "nbformat_minor": 5
}
